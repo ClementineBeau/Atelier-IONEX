{
 "cells": [
  {
   "cell_type": "markdown",
   "id": "62dace79",
   "metadata": {},
   "source": [
    "# Python pour l’analyse des cartes TEC IONEX \n",
    "\n",
    "Ce script Python a pour objectif de lire, traiter, décompresser, visualiser et analyser les cartes TEC (Total Electron Content) issues de fichiers IONEX. Ces cartes représentent la densité totale d’électrons dans l’ionosphère, une donnée importante pour la correction des signaux GNSS."
   ]
  },
  {
   "cell_type": "markdown",
   "id": "8959d7ea",
   "metadata": {},
   "source": [
    "Ce travail s’inspire du notebook [github](https://github.com/daniestevez/jupyter_notebooks/blob/master/IONEX.ipynb)."
   ]
  },
  {
   "cell_type": "code",
   "execution_count": null,
   "id": "4d479683",
   "metadata": {},
   "outputs": [],
   "source": [
    "#télécharge les données IONEX\n",
    "\n",
    "!git clone https://github.com/ClementineBeau/Fichiers-Atelier-IONEX.git\n",
    "\n",
    "#Source explications fichier GIM https://gnss-x.ac.cn/docs/gimman.pdf"
   ]
  },
  {
   "cell_type": "code",
   "execution_count": null,
   "id": "ee1a8081",
   "metadata": {},
   "outputs": [],
   "source": [
    "import numpy as np\n",
    "import matplotlib.pyplot as plt\n",
    "from matplotlib.widgets import Slider\n",
    "import matplotlib.colors\n",
    "from mpl_toolkits.axes_grid1 import make_axes_locatable\n",
    "import re                                                                \n",
    "import cartopy.crs as ccrs                                                                               \n",
    "import os\n",
    "from unlzw3 import unlzw"
   ]
  },
  {
   "cell_type": "code",
   "execution_count": null,
   "id": "f7e98884",
   "metadata": {},
   "outputs": [],
   "source": [
    "!pip install cartopy #executer si besoin\n",
    "import cartopy"
   ]
  },
  {
   "cell_type": "code",
   "execution_count": null,
   "id": "a35652da",
   "metadata": {},
   "outputs": [],
   "source": [
    "!pip install unlzw3 #executer si besoin\n",
    "import unlzw3"
   ]
  },
  {
   "cell_type": "markdown",
   "id": "474c9405",
   "metadata": {},
   "source": [
    "## Paramètres"
   ]
  },
  {
   "cell_type": "code",
   "execution_count": null,
   "id": "062a519f",
   "metadata": {},
   "outputs": [],
   "source": [
    "fig_size = [14, 10]\n",
    "plt.rcParams['figure.figsize'] = fig_size\n",
    "folder_ionex =\"/content/Fichiers-Atelier-IONEX/data-ionex\"   "
   ]
  },
  {
   "cell_type": "markdown",
   "id": "52d82362",
   "metadata": {},
   "source": [
    "## Fonctions"
   ]
  },
  {
   "cell_type": "code",
   "execution_count": null,
   "id": "30257ea7",
   "metadata": {},
   "outputs": [],
   "source": [
    "def parse_map(tecmap, exponent=-1):\n",
    "    '''\n",
    "    Extrait une carte TEC depuis une chaîne de texte brute issue d’un fichier IONEX\n",
    "    '''\n",
    "    tecmap = re.split('.*END OF TEC MAP', tecmap)[0]\n",
    "    return np.stack(\n",
    "        [np.fromstring(l, sep=' ') for l in re.split('.*LAT/LON1/LON2/DLON/H\\\\n', tecmap)[1:]]) * 10 ** exponent\n",
    "\n",
    "def get_tecmaps(filename):\n",
    "    '''\n",
    "    Lit un fichier IONEX et retourne toutes les cartes TEC qu’il contient\n",
    "    '''\n",
    "    with open(filename) as f:\n",
    "        ionex = f.read()\n",
    "        return [parse_map(t) for t in ionex.split('START OF TEC MAP')[1:]]\n",
    "\n",
    "def get_tec(tecmap, lat, lon):\n",
    "    #Extrait la valeur TEC à une latitude et longitude données.\n",
    "    i = round((87.5 - lat) * (tecmap.shape[0] - 1) / (2 * 87.5))\n",
    "    j = round((180 + lon) * (tecmap.shape[1] - 1) / 360)\n",
    "    return tecmap[i, j]\n",
    "\n",
    "def plot_tec_map(tecmap):\n",
    "    proj = ccrs.PlateCarree()\n",
    "    f, ax = plt.subplots(1, 1, subplot_kw=dict(projection=proj))\n",
    "    ax.coastlines()\n",
    "    h = plt.imshow(tecmap, cmap='viridis', vmin=0, vmax=100, extent=(-180, 180, -87.5, 87.5), transform=proj)\n",
    "    divider = make_axes_locatable(ax)\n",
    "    ax_cb = divider.new_horizontal(size='5%', pad=0.1, axes_class=plt.Axes)\n",
    "    f.add_axes(ax_cb)\n",
    "    cb = plt.colorbar(h, cax=ax_cb)\n",
    "    cb.set_label('TECU ($10^{16} \\\\mathrm{el}/\\\\mathrm{m}^2$)')\n",
    "\n",
    "def get_tecmaps_with_time(filename):\n",
    "    with open(filename) as f:\n",
    "        ionex = f.read()\n",
    "    # Séparer en blocs correspondant aux cartes\n",
    "    blocs = ionex.split('START OF TEC MAP')[1:]\n",
    "    cartes_dates = []\n",
    "    for bloc in blocs:\n",
    "        # Extraire la date juste avant \"START OF TEC MAP\" dans le texte complet\n",
    "        date_match = re.search(r'(\\d{4})\\s+(\\d{1,2})\\s+(\\d{1,2})\\s+(\\d{1,2})\\s+(\\d{1,2})\\s+(\\d{1,2})', bloc)\n",
    "        if date_match:\n",
    "            year, month, day, hour, minute, second = map(int, date_match.groups())\n",
    "        else:\n",
    "            year, month, day, hour, minute, second = (0, 0, 0, 0, 0, 0)\n",
    "\n",
    "        tecmap = parse_map(bloc)\n",
    "        cartes_dates.append(((year, month, day, hour, minute, second), tecmap))\n",
    "    return cartes_dates\n",
    "\n",
    "def decompress_ionex_file(filepath):\n",
    "    if not os.path.exists(filepath):\n",
    "        raise FileNotFoundError(f\"Fichier non trouvé : {filepath}\")\n",
    "    if filepath.lower().endswith(\".z\"):\n",
    "        filepath_out = filepath[:-2]\n",
    "    else:\n",
    "        print(f\"Fichier déjà décompressé: {filepath}\")\n",
    "        return filepath\n",
    "    if os.path.exists(filepath_out):\n",
    "        print(f\"Fichier déjà décompressé : {filepath_out}\")\n",
    "        return filepath_out\n",
    "    if filepath.lower().endswith(\".z\"):\n",
    "        with open(filepath, 'rb') as f_in:\n",
    "            data = unlzw(f_in.read())\n",
    "        with open(filepath_out, 'wb') as f_out:\n",
    "            f_out.write(data)\n",
    "        print(f\"Décompression .Z réussie, {filepath_out}\")\n",
    "    return filepath_out\n",
    "\n",
    "\n",
    "def plot_tec_map_ax(tecmap, ax):\n",
    "    ax.clear()\n",
    "    ax.coastlines()\n",
    "    proj = ccrs.PlateCarree()\n",
    "    im = ax.imshow(tecmap, cmap='viridis', vmin=0, vmax=100,\n",
    "                   extent=(-180, 180, -87.5, 87.5),\n",
    "                   transform=proj)\n",
    "    return im"
   ]
  },
  {
   "cell_type": "markdown",
   "id": "b39b9764",
   "metadata": {},
   "source": [
    "## Tracer le TEC mondial - carte intéractive"
   ]
  },
  {
   "cell_type": "code",
   "execution_count": null,
   "id": "60ba8969",
   "metadata": {},
   "outputs": [],
   "source": [
    "files_ionex_Z = sorted(os.listdir(folder_ionex))\n",
    "\n",
    "if files_ionex_Z:\n",
    "    first_file_path = os.path.join(folder_ionex, files_ionex_Z[0])\n",
    "    file_ionex_i = decompress_ionex_file(first_file_path)\n",
    "carte_dates = get_tecmaps_with_time(file_ionex_i)\n",
    "\n",
    "\n",
    "proj = ccrs.PlateCarree()\n",
    "fig, ax = plt.subplots(subplot_kw=dict(projection=proj), figsize=(14, 10))\n",
    "plt.subplots_adjust(bottom=0.25)\n",
    "date0, tecmap0 = carte_dates[0]\n",
    "im = plot_tec_map_ax(tecmap0, ax)\n",
    "title = ax.set_title(f\"VTEC map — {date0[0]}-{date0[1]:02d}-{date0[2]:02d} {date0[3]:02d}:{date0[4]:02d}:{date0[5]:02d}\")\n",
    "cbar = fig.colorbar(im, ax=ax, orientation='vertical', fraction=0.046, pad=0.04)\n",
    "cbar.set_label('TECU ($10^{16} \\\\mathrm{el}/\\\\mathrm{m}^2$)')\n",
    "ax_slider = plt.axes([0.2, 0.1, 0.6, 0.03])  # position [gauche, bas, largeur, hauteur]\n",
    "slider = Slider(ax_slider, 'Temps', 0, len(carte_dates) - 1, valinit=0, valstep=1)\n",
    "def update(val):\n",
    "    idx = int(slider.val)\n",
    "    date, tecmap = carte_dates[idx]\n",
    "    im.set_data(tecmap)\n",
    "    title.set_text(f\"VTEC map — {date[0]}-{date[1]:02d}-{date[2]:02d} {date[3]:02d}:{date[4]:02d}:{date[5]:02d}\")\n",
    "    fig.canvas.draw_idle()\n",
    "slider.on_changed(update)\n",
    "plt.show()"
   ]
  },
  {
   "cell_type": "markdown",
   "id": "b103b08f",
   "metadata": {},
   "source": [
    "## Tracer les variations journalières du TEC à Québec "
   ]
  },
  {
   "cell_type": "code",
   "execution_count": null,
   "id": "a6dcb7c6",
   "metadata": {},
   "outputs": [],
   "source": [
    "lat_QC = 46.8139 #coordonnées hotel de ville de Québec\n",
    "lon_QC = -71.2082\n",
    "fig, ax = plt.subplots(figsize=(14, 6))\n",
    "\n",
    "norm = matplotlib.colors.Normalize(vmin=1, vmax=8)\n",
    "cmap = plt.cm.viridis\n",
    "sm = plt.cm.ScalarMappable(norm=norm, cmap=cmap)\n",
    "sm.set_array([])\n",
    "lat_QC = 46.8139\n",
    "lon_QC = -71.2082\n",
    "for day_idx, file in enumerate(sorted(files_ionex_Z), start=1):\n",
    "    file_path = os.path.join(folder_ionex, file)\n",
    "    file_ionex_i = decompress_ionex_file(file_path)\n",
    "    carte_dates = get_tecmaps_with_time(file_ionex_i)\n",
    "    # Construction des paires (heure, tec) et tri\n",
    "    data_points = [\n",
    "        (date[3] + date[4] / 60.0, get_tec(tecmap, lat_QC, lon_QC))\n",
    "        for date, tecmap in carte_dates\n",
    "    ]\n",
    "    data_points.sort()  # tri croissant sur l'heure\n",
    "    heures, tec_values = zip(*data_points)  # unzip les listes triées\n",
    "    ax.plot(heures, tec_values, color=cmap(norm(day_idx)), alpha=0.4)\n",
    "ax.set_title('Variations journalières du VTEC à Québec (1 courbe par jour, 8 jours)')\n",
    "ax.set_xlabel('Heure UTC')\n",
    "ax.set_ylabel('TECU ($10^{16} \\\\mathrm{el}/\\\\mathrm{m}^2$)')\n",
    "ax.grid(True)\n",
    "ax.set_xlim(0, 24)\n",
    "ax.set_xticks(np.arange(0, 25, 2))\n",
    "cbar = fig.colorbar(sm, ax=ax, orientation='vertical', label='Jour')\n",
    "plt.tight_layout()\n",
    "plt.show()\n"
   ]
  }
 ],
 "metadata": {
  "kernelspec": {
   "display_name": "Python 3 (ipykernel)",
   "language": "python",
   "name": "python3"
  },
  "language_info": {
   "codemirror_mode": {
    "name": "ipython",
    "version": 3
   },
   "file_extension": ".py",
   "mimetype": "text/x-python",
   "name": "python",
   "nbconvert_exporter": "python",
   "pygments_lexer": "ipython3",
   "version": "3.11.5"
  }
 },
 "nbformat": 4,
 "nbformat_minor": 5
}
